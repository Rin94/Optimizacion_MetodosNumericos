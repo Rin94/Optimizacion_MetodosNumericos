{
 "cells": [
  {
   "cell_type": "code",
   "execution_count": 1,
   "metadata": {},
   "outputs": [],
   "source": [
    "\"\"\"\n",
    "f: funcion\n",
    "a,b: intervalo de busqueda\n",
    "e: condicion de salida de ciclo\n",
    "\"\"\"\n",
    "def bisection(f,a,b,e):\n",
    "    \n",
    "    if f(a)*f(b)>=0:\n",
    "        print(\"Solución no encontrada\")\n",
    "    a1=a\n",
    "    b1=b\n",
    "    for n in range(1,e+1):\n",
    "        alpha=(a1+b1)/2\n",
    "        fun_m=f(alpha)\n",
    "        if f(a1)*fun_m<0:\n",
    "            a1=a1\n",
    "            b1=alpha\n",
    "        elif f(b1)*fun_m<0:\n",
    "            a1=alpha\n",
    "            b1=b1\n",
    "        elif fun_m==0:\n",
    "            print(\"Solucion encontrada\")\n",
    "            return alpha\n",
    "        else:\n",
    "            print(\"Fallo\")\n",
    "            return None\n",
    "    return (a1+b1)/2\n",
    "\n",
    "    \n",
    "    "
   ]
  },
  {
   "cell_type": "code",
   "execution_count": 2,
   "metadata": {},
   "outputs": [],
   "source": [
    "f = lambda x: x**2 - x - 1"
   ]
  },
  {
   "cell_type": "code",
   "execution_count": 3,
   "metadata": {},
   "outputs": [
    {
     "data": {
      "text/plain": [
       "1.618033990263939"
      ]
     },
     "execution_count": 3,
     "metadata": {},
     "output_type": "execute_result"
    }
   ],
   "source": [
    "bisection(f,1,2,25)"
   ]
  },
  {
   "cell_type": "code",
   "execution_count": null,
   "metadata": {},
   "outputs": [],
   "source": [
    "def solve_bisection(a,b,e,f):\n",
    "    \n",
    "    "
   ]
  },
  {
   "cell_type": "code",
   "execution_count": 26,
   "metadata": {},
   "outputs": [
    {
     "name": "stdout",
     "output_type": "stream",
     "text": [
      "Answer: 1.6180267333984375 \n",
      "found in 16 iterations\n"
     ]
    }
   ],
   "source": [
    "num_points=[]\n",
    "\n",
    "def root11(x):\n",
    "    return(x**2 - x - 1)\n",
    "\n",
    "def bisection_method(f, a, b, tol):\n",
    "    if f(a)*f(b) > 0:\n",
    "        #end function, no root.\n",
    "        print(\"No root found.\")\n",
    "    else:\n",
    "        iter = 0\n",
    "        while (b - a)/2.0 > tol:\n",
    "            midpoint = (a + b)/2.0\n",
    "\n",
    "            if f(a)*f(midpoint) < 0: # Increasing but below 0 case\n",
    "                b = midpoint\n",
    "            else:\n",
    "                a = midpoint\n",
    "\n",
    "            iter += 1\n",
    "            num_points.append(midpoint)\n",
    "            \n",
    "        return(midpoint, iter)\n",
    "\n",
    "answer, iterations = bisection_method(root11, 1, 2, 0.00001)\n",
    "print(\"Answer:\", answer, \"\\nfound in\", iterations, \"iterations\")\n",
    "\n",
    "import math\n",
    "#answer, iterations = bisection_method(math.cos, 0, 2, 0.000001)\n",
    "#print(\"Answer:\", answer, \"\\nfound in\", iterations, \"iterations\")"
   ]
  },
  {
   "cell_type": "code",
   "execution_count": 11,
   "metadata": {},
   "outputs": [],
   "source": [
    "import matplotlib.pyplot as plt\n",
    "import numpy as np\n",
    "%matplotlib inline\n"
   ]
  },
  {
   "cell_type": "code",
   "execution_count": 27,
   "metadata": {},
   "outputs": [
    {
     "name": "stdout",
     "output_type": "stream",
     "text": [
      "[1.5, 1.75, 1.625, 1.5625, 1.59375, 1.609375, 1.6171875, 1.62109375, 1.619140625, 1.6181640625, 1.61767578125, 1.617919921875, 1.6180419921875, 1.61798095703125, 1.618011474609375, 1.6180267333984375]\n"
     ]
    }
   ],
   "source": [
    "print(num_points)"
   ]
  },
  {
   "cell_type": "code",
   "execution_count": 12,
   "metadata": {},
   "outputs": [],
   "source": [
    "x=np.linspace(1,2,100)\n"
   ]
  },
  {
   "cell_type": "code",
   "execution_count": 38,
   "metadata": {},
   "outputs": [
    {
     "name": "stdout",
     "output_type": "stream",
     "text": [
      "[1.         1.01010101 1.02020202 1.03030303 1.04040404 1.05050505\n",
      " 1.06060606 1.07070707 1.08080808 1.09090909 1.1010101  1.11111111\n",
      " 1.12121212 1.13131313 1.14141414 1.15151515 1.16161616 1.17171717\n",
      " 1.18181818 1.19191919 1.2020202  1.21212121 1.22222222 1.23232323\n",
      " 1.24242424 1.25252525 1.26262626 1.27272727 1.28282828 1.29292929\n",
      " 1.3030303  1.31313131 1.32323232 1.33333333 1.34343434 1.35353535\n",
      " 1.36363636 1.37373737 1.38383838 1.39393939 1.4040404  1.41414141\n",
      " 1.42424242 1.43434343 1.44444444 1.45454545 1.46464646 1.47474747\n",
      " 1.48484848 1.49494949 1.50505051 1.51515152 1.52525253 1.53535354\n",
      " 1.54545455 1.55555556 1.56565657 1.57575758 1.58585859 1.5959596\n",
      " 1.60606061 1.61616162 1.62626263 1.63636364 1.64646465 1.65656566\n",
      " 1.66666667 1.67676768 1.68686869 1.6969697  1.70707071 1.71717172\n",
      " 1.72727273 1.73737374 1.74747475 1.75757576 1.76767677 1.77777778\n",
      " 1.78787879 1.7979798  1.80808081 1.81818182 1.82828283 1.83838384\n",
      " 1.84848485 1.85858586 1.86868687 1.87878788 1.88888889 1.8989899\n",
      " 1.90909091 1.91919192 1.92929293 1.93939394 1.94949495 1.95959596\n",
      " 1.96969697 1.97979798 1.98989899 2.        ]\n"
     ]
    }
   ],
   "source": [
    "print(x)"
   ]
  },
  {
   "cell_type": "code",
   "execution_count": 37,
   "metadata": {},
   "outputs": [
    {
     "data": {
      "text/plain": [
       "[<matplotlib.lines.Line2D at 0x11ad09e10>]"
      ]
     },
     "execution_count": 37,
     "metadata": {},
     "output_type": "execute_result"
    },
    {
     "data": {
      "image/png": "[encoded data removed]",
      "text/plain": [
       "<Figure size 432x288 with 1 Axes>"
      ]
     },
     "metadata": {},
     "output_type": "display_data"
    }
   ],
   "source": [
    "y=root11(x)\n",
    "#plt.plot(y)\n",
    "yl=range(0,101)\n",
    "plt.plot()\n",
    "plt.plot(num_points)"
   ]
  },
  {
   "cell_type": "code",
   "execution_count": 39,
   "metadata": {},
   "outputs": [
    {
     "data": {
      "text/plain": [
       "array([-1.        , -0.98979696, -0.97938986, -0.9687787 , -0.95796347,\n",
       "       -0.94694419, -0.93572084, -0.92429344, -0.91266197, -0.90082645,\n",
       "       -0.88878686, -0.87654321, -0.8640955 , -0.85144373, -0.8385879 ,\n",
       "       -0.82552801, -0.81226405, -0.79879604, -0.78512397, -0.77124783,\n",
       "       -0.75716764, -0.74288338, -0.72839506, -0.71370268, -0.69880624,\n",
       "       -0.68370574, -0.66840118, -0.65289256, -0.63717988, -0.62126314,\n",
       "       -0.60514233, -0.58881747, -0.57228854, -0.55555556, -0.53861851,\n",
       "       -0.5214774 , -0.50413223, -0.486583  , -0.46882971, -0.45087236,\n",
       "       -0.43271095, -0.41434547, -0.39577594, -0.37700235, -0.35802469,\n",
       "       -0.33884298, -0.3194572 , -0.29986736, -0.28007346, -0.2600755 ,\n",
       "       -0.23987348, -0.2194674 , -0.19885726, -0.17804306, -0.15702479,\n",
       "       -0.13580247, -0.11437608, -0.09274564, -0.07091113, -0.04887256,\n",
       "       -0.02662994, -0.00418325,  0.0184675 ,  0.04132231,  0.06438119,\n",
       "        0.08764412,  0.11111111,  0.13478217,  0.15865728,  0.18273646,\n",
       "        0.20701969,  0.23150699,  0.25619835,  0.28109377,  0.30619325,\n",
       "        0.33149679,  0.35700439,  0.38271605,  0.40863177,  0.43475156,\n",
       "        0.4610754 ,  0.48760331,  0.51433527,  0.5412713 ,  0.56841139,\n",
       "        0.59575554,  0.62330374,  0.65105601,  0.67901235,  0.70717274,\n",
       "        0.73553719,  0.7641057 ,  0.79287828,  0.82185491,  0.85103561,\n",
       "        0.88042037,  0.91000918,  0.93980206,  0.969799  ,  1.        ])"
      ]
     },
     "execution_count": 39,
     "metadata": {},
     "output_type": "execute_result"
    }
   ],
   "source": [
    "y"
   ]
  },
  {
   "cell_type": "code",
   "execution_count": null,
   "metadata": {},
   "outputs": [],
   "source": []
  }
 ],
 "metadata": {
  "kernelspec": {
   "display_name": "Python 3",
   "language": "python",
   "name": "python3"
  },
  "language_info": {
   "codemirror_mode": {
    "name": "ipython",
    "version": 3
   },
   "file_extension": ".py",
   "mimetype": "text/x-python",
   "name": "python",
   "nbconvert_exporter": "python",
   "pygments_lexer": "ipython3",
   "version": "3.6.8"
  }
 },
 "nbformat": 4,
 "nbformat_minor": 2
}
