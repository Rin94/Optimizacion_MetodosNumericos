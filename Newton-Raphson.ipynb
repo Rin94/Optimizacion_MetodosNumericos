{
 "cells": [
  {
   "cell_type": "code",
   "execution_count": 1,
   "metadata": {},
   "outputs": [],
   "source": [
    "def newton(f,Df,x0,epsilon,max_iter):\n",
    "    xn = x0\n",
    "    for n in range(0,max_iter):\n",
    "        fxn = f(xn)\n",
    "        if abs(fxn) < epsilon:\n",
    "            print('Found solution after',n,'iterations.')\n",
    "            return xn\n",
    "        Dfxn = Df(xn)\n",
    "        if Dfxn == 0:\n",
    "            print('Zero derivative. No solution found.')\n",
    "            return None\n",
    "        xn = xn - fxn/Dfxn\n",
    "    print('Exceeded maximum iterations. No solution found.')\n",
    "    return None"
   ]
  },
  {
   "cell_type": "code",
   "execution_count": 2,
   "metadata": {},
   "outputs": [
    {
     "name": "stdout",
     "output_type": "stream",
     "text": [
      "Found solution after 6 iterations.\n",
      "1.4655712318767877\n"
     ]
    }
   ],
   "source": [
    "f = lambda x: x**3 - x**2 - 1\n",
    "Df = lambda x: 3*x**2 - 2*x\n",
    "approx = newton(f,Df,1,1e-10,100)\n",
    "print(approx)"
   ]
  },
  {
   "cell_type": "code",
   "execution_count": 5,
   "metadata": {
    "code_folding": []
   },
   "outputs": [
    {
     "name": "stdout",
     "output_type": "stream",
     "text": [
      "Root of the function f(x) is:  0.6071016481468803\n"
     ]
    },
    {
     "data": {
      "image/png": "[encoded data removed]",
      "text/plain": [
       "<Figure size 432x288 with 1 Axes>"
      ]
     },
     "metadata": {},
     "output_type": "display_data"
    }
   ],
   "source": [
    "from pylab import *\n",
    "import math\n",
    " \n",
    "# f(x) - the function of the polynomialdef \n",
    "def f(x):\n",
    "    y = 3 * x - cos(x) - 1   \n",
    "    return y\n",
    " \n",
    "x = linspace(-3,3,100) #for graph drawing\n",
    " \n",
    "# function to find the derivative of the polynomial \n",
    "def derivative(x): \n",
    "    h = 0.000001   \n",
    "    derivative = (f(x + h) - f(x)) / h\n",
    "    return derivative\n",
    " \n",
    "def newton_raphson(x):\n",
    "    return (x - (f(x) / derivative(x)))\n",
    " \n",
    "def iterate(p, n):\n",
    "    x = p\n",
    "    for _ in range(n):\n",
    "        x = newton_raphson(x)\n",
    "    return x\n",
    " \n",
    "''' print the root of the polynomial x^3 - 2x - 1 using 3 iterations and taking initial point as 1\n",
    "'''\n",
    "print(\"Root of the function f(x) is: \",iterate(1, 3)) \n",
    " \n",
    "plt.plot(x,f(x))\n",
    "plt.grid(True)\n",
    "plt.show()"
   ]
  },
  {
   "cell_type": "code",
   "execution_count": null,
   "metadata": {},
   "outputs": [],
   "source": []
  }
 ],
 "metadata": {
  "kernelspec": {
   "display_name": "Python 3",
   "language": "python",
   "name": "python3"
  },
  "language_info": {
   "codemirror_mode": {
    "name": "ipython",
    "version": 3
   },
   "file_extension": ".py",
   "mimetype": "text/x-python",
   "name": "python",
   "nbconvert_exporter": "python",
   "pygments_lexer": "ipython3",
   "version": "3.6.8"
  }
 },
 "nbformat": 4,
 "nbformat_minor": 2
}
