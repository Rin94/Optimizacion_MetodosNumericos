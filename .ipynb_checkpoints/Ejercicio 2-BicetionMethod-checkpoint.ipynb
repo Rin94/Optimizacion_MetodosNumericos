{
 "cells": [
  {
   "cell_type": "code",
   "execution_count": 1,
   "metadata": {},
   "outputs": [],
   "source": [
    "\"\"\"\n",
    "f: funcion\n",
    "a,b: intervalo de busqueda\n",
    "e: condicion de salida de ciclo\n",
    "\"\"\"\n",
    "def bisection(f,a,b,e):\n",
    "    \n",
    "    if f(a)*f(b)>=0:\n",
    "        print(\"Solución no encontrada\")\n",
    "    a1=a\n",
    "    b1=b\n",
    "    for n in range(1,e+1):\n",
    "        alpha=(a1+b1)/2\n",
    "        fun_m=f(alpha)\n",
    "        if f(a1)*fun_m<0:\n",
    "            a1=a1\n",
    "            b1=alpha\n",
    "        elif f(b1)*fun_m<0:\n",
    "            a1=alpha\n",
    "            b1=b1\n",
    "        elif fun_m==0:\n",
    "            print(\"Solucion encontrada\")\n",
    "            return alpha\n",
    "        else:\n",
    "            print(\"Fallo\")\n",
    "            return None\n",
    "    return (a1+b1)/2\n",
    "\n",
    "    \n",
    "    "
   ]
  },
  {
   "cell_type": "code",
   "execution_count": 2,
   "metadata": {},
   "outputs": [],
   "source": [
    "f = lambda x: x**2 - x - 1"
   ]
  },
  {
   "cell_type": "code",
   "execution_count": 3,
   "metadata": {},
   "outputs": [
    {
     "data": {
      "text/plain": [
       "1.618033990263939"
      ]
     },
     "execution_count": 3,
     "metadata": {},
     "output_type": "execute_result"
    }
   ],
   "source": [
    "bisection(f,1,2,25)"
   ]
  },
  {
   "cell_type": "code",
   "execution_count": null,
   "metadata": {},
   "outputs": [],
   "source": [
    "def solve_bisection(a,b,e,f):\n",
    "    \n",
    "    "
   ]
  },
  {
   "cell_type": "code",
   "execution_count": 6,
   "metadata": {},
   "outputs": [
    {
     "name": "stdout",
     "output_type": "stream",
     "text": [
      "Answer: 1.609375 \n",
      "found in 6 iterations\n",
      "Answer: 1.5707950592041016 \n",
      "found in 20 iterations\n"
     ]
    }
   ],
   "source": [
    "def root11(x):\n",
    "    return(x**2 - x - 1)\n",
    "\n",
    "def bisection_method(f, a, b, tol):\n",
    "    num_points=[]\n",
    "    if f(a)*f(b) > 0:\n",
    "        #end function, no root.\n",
    "        print(\"No root found.\")\n",
    "    else:\n",
    "        iter = 0\n",
    "        while (b - a)/2.0 > tol:\n",
    "            midpoint = (a + b)/2.0\n",
    "\n",
    "            if f(a)*f(midpoint) < 0: # Increasing but below 0 case\n",
    "                b = midpoint\n",
    "            else:\n",
    "                a = midpoint\n",
    "\n",
    "            iter += 1\n",
    "            num_point.append(midpoint)\n",
    "            \n",
    "        return(midpoint, iter,num_point)\n",
    "\n",
    "answer, iterations, num_point = bisection_method(root11, 1, 2, 0.01)\n",
    "print(\"Answer:\", answer, \"\\nfound in\", iterations, \"iterations\")\n",
    "\n",
    "import math\n",
    "answer, iterations = bisection_method(math.cos, 0, 2, 0.000001)\n",
    "print(\"Answer:\", answer, \"\\nfound in\", iterations, \"iterations\")"
   ]
  },
  {
   "cell_type": "code",
   "execution_count": 11,
   "metadata": {},
   "outputs": [],
   "source": [
    "import matplotlib.pyplot as plt\n",
    "import numpy as np\n",
    "%matplotlib inline\n"
   ]
  },
  {
   "cell_type": "code",
   "execution_count": 12,
   "metadata": {},
   "outputs": [],
   "source": [
    "x=np.linspace(1,2,100)"
   ]
  },
  {
   "cell_type": "code",
   "execution_count": 16,
   "metadata": {},
   "outputs": [
    {
     "data": {
      "text/plain": [
       "[<matplotlib.lines.Line2D at 0x11a7adcc0>]"
      ]
     },
     "execution_count": 16,
     "metadata": {},
     "output_type": "execute_result"
    },
    {
     "data": {
      "image/png": "[encoded data removed]",
      "text/plain": [
       "<Figure size 432x288 with 1 Axes>"
      ]
     },
     "metadata": {},
     "output_type": "display_data"
    }
   ],
   "source": [
    "y=root11(x)\n",
    "plt.plot(y)"
   ]
  },
  {
   "cell_type": "code",
   "execution_count": null,
   "metadata": {},
   "outputs": [],
   "source": []
  }
 ],
 "metadata": {
  "kernelspec": {
   "display_name": "Python 3",
   "language": "python",
   "name": "python3"
  },
  "language_info": {
   "codemirror_mode": {
    "name": "ipython",
    "version": 3
   },
   "file_extension": ".py",
   "mimetype": "text/x-python",
   "name": "python",
   "nbconvert_exporter": "python",
   "pygments_lexer": "ipython3",
   "version": "3.6.8"
  }
 },
 "nbformat": 4,
 "nbformat_minor": 2
}
